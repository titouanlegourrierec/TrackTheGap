{
 "cells": [
  {
   "cell_type": "code",
   "execution_count": 14,
   "metadata": {},
   "outputs": [],
   "source": [
    "# Import necessary libraries\n",
    "import pandas as pd\n",
    "from datetime import datetime\n",
    "import matplotlib.pyplot as plt"
   ]
  },
  {
   "cell_type": "markdown",
   "metadata": {},
   "source": [
    "## 1. Data Loading"
   ]
  },
  {
   "cell_type": "code",
   "execution_count": 15,
   "metadata": {},
   "outputs": [],
   "source": [
    "# Read men's and women's world records from CSV files\n",
    "men_records = pd.read_csv(\"data/men_world_records.csv\", sep=\",\")\n",
    "women_records = pd.read_csv(\"data/women_world_records.csv\", sep=\",\")"
   ]
  },
  {
   "cell_type": "markdown",
   "metadata": {},
   "source": [
    "## 2. Data Preparation"
   ]
  },
  {
   "cell_type": "code",
   "execution_count": 16,
   "metadata": {},
   "outputs": [],
   "source": [
    "# Filter women's records to include only those disciplines that also exist in men's records\n",
    "women_records = women_records[women_records['DISCIPLINE'].isin(men_records['DISCIPLINE'].unique())]\n",
    "\n",
    "# Select and rename performance columns for men and women\n",
    "men_perf = men_records[['DISCIPLINE', 'PERF']].rename(columns={'PERF': 'PERF_MEN'})\n",
    "women_perf = women_records[['DISCIPLINE', 'PERF']].rename(columns={'PERF': 'PERF_WOMEN'})\n",
    "\n",
    "# Merge men's and women's performance data on discipline\n",
    "df = pd.merge(men_perf, women_perf, on='DISCIPLINE', how='inner')\n",
    "\n",
    "# Keep only the last record for each discipline\n",
    "df = df.groupby('DISCIPLINE').last().reset_index()"
   ]
  },
  {
   "cell_type": "markdown",
   "metadata": {},
   "source": [
    "## 3. Time Conversion and Performance Gap Calculation"
   ]
  },
  {
   "cell_type": "code",
   "execution_count": 17,
   "metadata": {},
   "outputs": [],
   "source": [
    "not_time = ['Decathlon', 'Discus Throw', 'Hammer Throw', 'High Jump', 'Javelin Throw', 'Long Jump', 'One Hour', 'Pole Vault', 'Shot Put', 'Triple Jump']\n",
    "df['IS_TIME'] = df['DISCIPLINE'].apply(lambda x: 1 if x not in not_time else 0)\n",
    "\n",
    "# Fonction pour convertir différents formats de temps en centièmes de seconde\n",
    "def convert_to_centiseconds(time_str):\n",
    "    if '.' in time_str:\n",
    "        try:\n",
    "            time_obj = datetime.strptime(time_str, '%H:%M:%S.%f')\n",
    "        except ValueError:\n",
    "            try:\n",
    "                time_obj = datetime.strptime(time_str, '%M:%S.%f')\n",
    "            except ValueError:\n",
    "                time_obj = datetime.strptime(time_str, '%S.%f')\n",
    "        total_centiseconds = (time_obj.hour * 3600 + time_obj.minute * 60 + time_obj.second) * 100 + int(time_obj.microsecond / 10000)\n",
    "    else:\n",
    "        try:\n",
    "            time_obj = datetime.strptime(time_str, '%H:%M:%S')\n",
    "        except ValueError:\n",
    "            try:\n",
    "                time_obj = datetime.strptime(time_str, '%M:%S')\n",
    "            except ValueError:\n",
    "                time_obj = datetime.strptime(time_str, '%S')\n",
    "        total_centiseconds = (time_obj.hour * 3600 + time_obj.minute * 60 + time_obj.second) * 100\n",
    "    return total_centiseconds\n",
    "\n",
    "perf_gap_percent_list = []\n",
    "\n",
    "for row in df.itertuples():\n",
    "    if row.IS_TIME == 1:\n",
    "        men_time = convert_to_centiseconds(row.PERF_MEN)\n",
    "        women_time = convert_to_centiseconds(row.PERF_WOMEN)\n",
    "\n",
    "        perf_gap_percent = (abs(men_time - women_time) / men_time) * 100\n",
    "    else:\n",
    "        perf_gap_percent = (abs(float(row.PERF_MEN) - float(row.PERF_WOMEN)) / float(row.PERF_WOMEN)) * 100\n",
    "    \n",
    "    perf_gap_percent_list.append(perf_gap_percent)\n",
    "\n",
    "df['PERF_GAP_PERCENT'] = perf_gap_percent_list"
   ]
  },
  {
   "cell_type": "markdown",
   "metadata": {},
   "source": [
    "## 4. Categorization of Disciplines"
   ]
  },
  {
   "cell_type": "code",
   "execution_count": 18,
   "metadata": {},
   "outputs": [],
   "source": [
    "# Define discipline categories\n",
    "Sprints = [\"100 Metres\", \"200 Metres\", \"400 Metres\"]\n",
    "Middle_Long = [\"800 Metres\", \"1500 Metres\", \"5000 Metres\", \"10000 Metres\", \"3000 Metres Steeplechase\"]\n",
    "Hurdles = [\"400 Metres Hurdles\"]\n",
    "Road = [\"Half Marathon\", \"Marathon\"]\n",
    "Jumps = [\"High Jump\", \"Pole Vault\", \"Long Jump\", \"Triple Jump\"]\n",
    "Throws = [\"Shot Put\", \"Discus Throw\", \"Hammer Throw\", \"Javelin Throw\"]\n",
    "Combined = [\"Decathlon\", \"Heptathlon\"]\n",
    "Walks = [\"20 Kilometres Walk\", \"50 Kilometres Walk\"]\n",
    "Relays = [\"4x100 Metres Relay\", \"4x400 Metres Relay\"]\n",
    "\n",
    "# Categorize each discipline\n",
    "for i, row in df.iterrows():\n",
    "    if row['DISCIPLINE'] in Sprints:\n",
    "        df.at[i, 'CATEGORY'] = 'Sprints'\n",
    "    elif row['DISCIPLINE'] in Middle_Long:\n",
    "        df.at[i, 'CATEGORY'] = 'Middle-Long Distance'\n",
    "    elif row['DISCIPLINE'] in Hurdles:\n",
    "        df.at[i, 'CATEGORY'] = 'Hurdles'\n",
    "    elif row['DISCIPLINE'] in Road:\n",
    "        df.at[i, 'CATEGORY'] = 'Road'\n",
    "    elif row['DISCIPLINE'] in Jumps:\n",
    "        df.at[i, 'CATEGORY'] = 'Jumps'\n",
    "    elif row['DISCIPLINE'] in Throws:\n",
    "        df.at[i, 'CATEGORY'] = 'Throws'\n",
    "    elif row['DISCIPLINE'] in Combined:\n",
    "        df.at[i, 'CATEGORY'] = 'Combined Events'\n",
    "    elif row['DISCIPLINE'] in Walks:\n",
    "        df.at[i, 'CATEGORY'] = 'Walks'\n",
    "    elif row['DISCIPLINE'] in Relays:\n",
    "        df.at[i, 'CATEGORY'] = 'Relays'\n",
    "    else:\n",
    "        df.at[i, 'CATEGORY'] = 'Other'"
   ]
  }
 ],
 "metadata": {
  "kernelspec": {
   "display_name": "env",
   "language": "python",
   "name": "python3"
  },
  "language_info": {
   "codemirror_mode": {
    "name": "ipython",
    "version": 3
   },
   "file_extension": ".py",
   "mimetype": "text/x-python",
   "name": "python",
   "nbconvert_exporter": "python",
   "pygments_lexer": "ipython3",
   "version": "3.11.8"
  }
 },
 "nbformat": 4,
 "nbformat_minor": 2
}
